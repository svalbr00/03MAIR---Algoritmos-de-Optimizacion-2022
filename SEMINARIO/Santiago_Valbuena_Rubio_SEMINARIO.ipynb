{
  "nbformat": 4,
  "nbformat_minor": 0,
  "metadata": {
    "colab": {
      "provenance": []
    },
    "kernelspec": {
      "name": "python3",
      "display_name": "Python 3"
    }
  },
  "cells": [
    {
      "cell_type": "markdown",
      "metadata": {
        "id": "hVbXYX-RfPWh"
      },
      "source": [
        "# Algoritmos de optimización - Seminario<br>\n",
        "Nombre y Apellidos: Santiago valbuena Rubio  <br> \n",
        "Url: https://colab.research.google.com/drive/1XwvoGH9_l3WuUlGliYKiYiCSRYA53DSN?usp=sharing<br>\n",
        "Github: https://github.com/svalbr00/03MAIR---Algoritmos-de-Optimizacion-2022/tree/main/SEMINARIO\n",
        "Problema:\n",
        "> 1. <del>Sesiones de doblaje </del><br>\n",
        ">2. <b>Organizar los horarios de partidos de La Liga</b><br>\n",
        ">3. <del>Combinar cifras y operaciones</del>\n",
        "\n",
        "Descripción del problema:(copiar enunciado)\n",
        "\n",
        "<b>He elegido el segundo problema:</b>\n",
        "Desde la La Liga de fútbol profesional se pretende organizar los horarios de los partidos de\n",
        "liga de cada jornada. Se conocen algunos datos que nos deben llevar a diseñar un\n",
        "algoritmo que realice la asignación de los partidos a los horarios de forma que maximice la\n",
        "audiencia.\n",
        "\n",
        "(*) La respuesta es obligatoria\n",
        "\n",
        "\n",
        "\n",
        "                                        "
      ]
    },
    {
      "cell_type": "code",
      "source": [],
      "metadata": {
        "id": "dFdyN6E5B7wi"
      },
      "execution_count": 1,
      "outputs": []
    },
    {
      "cell_type": "markdown",
      "metadata": {
        "id": "3_-exlrTgLd-"
      },
      "source": [
        "(*)¿Cuantas posibilidades hay sin tener en cuenta las restricciones?<br>\n",
        "\n",
        "Para calcular el número de posibilidades posibles sin tener en cuenta las restricciones usaremos la formula para calcular variaciones con repeticion ya que contamos con 10 horarios (n=10) los cuales pueden repetirse e importa el orden ya que aunque por ejemplo si hay dos partidos B-A B-A, el resultado de asignarles un horario a uno y otro a otro va a dar igual ya que la audiencia total será la misma, existe la combinación y hay que tenerla en cuenta. Por lo que se calcula como VR<sub>n,k</sub> = n<sup>k</sup>, por lo que VR<sub>10,10</sub> = 10<sup>10</sup> = 10.000.000.000 de combinaciones posibles.\n",
        "\n",
        "¿Cuantas posibilidades hay teniendo en cuenta todas las restricciones.\n",
        "\n",
        "Teniendo en cuanta las restricciones hay que restarle todas las combinaciones en las que no hay partidos ni los lunes ni los viernes. Por lo que ahora no vamos a poder repetir un horario 10 veces sino que como mucho se repetirá 8 veces debido a que siempre debe de haber un partido el lunes y otro el viernes y hasta 9 veces en el caso de que sea el partido del lunes o del viernes. También tenemos que tener en cuenta la permutacion de los partidos del viernes y el lunes por lo que a la variación le sumaremos la permutación. De tal forma que VR<sub>8,8</sub> * VR<sub>2,9</sub> + 10! = 8<sup>8</sup> x 2<sup>9</sup> + 10! = 8.593.563.392 de combinaciones posibles.\n"
      ]
    },
    {
      "cell_type": "markdown",
      "metadata": {
        "id": "WfCUqJyKhPcw"
      },
      "source": [
        "Respuesta"
      ]
    },
    {
      "cell_type": "code",
      "metadata": {
        "id": "iq6Fe32MgpDX"
      },
      "source": [],
      "execution_count": null,
      "outputs": []
    },
    {
      "cell_type": "markdown",
      "metadata": {
        "id": "dzynfVJahHoY"
      },
      "source": [
        "Modelo para el espacio de soluciones<br>\n",
        "(*) ¿Cual es la estructura de datos que mejor se adapta al problema? Argumentalo.(Es posible que hayas elegido una al principio y veas la necesidad de cambiar, arguentalo)\n",
        "He utilizado distintas estructuras de datos para distintos momentos a lo largo del problema.\n",
        "\n",
        "En primer lugar para mapear todos los datos de entrada que sirven como datos maestros a la hora de calcular las audiencias de un partido determinado como las audiencias de cada horario o las restricciones de los partidos simultaneos, he utilizado diccionarios de python que me han servido para mapear de una forma sencilla y rapida los datos.\n",
        "\n",
        "Por otra parte he utilizado listas en el algoritmo voraz ya que te permiten ir metiendo y sacando datos de la lista y esto te permite ir jugando con los horarios de la jornada para ir cambiando ciertos horarios y calcular el coste total de la jornada."
      ]
    },
    {
      "cell_type": "markdown",
      "metadata": {
        "id": "xFIJrOwKi2Ti"
      },
      "source": [
        "Respuesta"
      ]
    },
    {
      "cell_type": "code",
      "metadata": {
        "id": "38c-7-ejhJmA"
      },
      "source": [
        "audiencias_map = {'A':0, 'B':1, 'C':2}\n",
        "audiencias = [[2, 1.3, 1], [1.3, 0.9, 0.75], [1, 0.75, 0.47]]\n",
        "simultaneos = {'0':0, '1':0.25, '2':0.45, '3':0.60, '4':0.70, '5':0.75, '6':0.78, '7':0.8, '8':0.8}\n",
        "horarios = {'V20': 0.4, 'S12':0.55, 'S16':0.7, 'S18':0.8, 'S20':1, 'D12':0.45, 'D16':0.75, 'D18':0.85, 'D20':1, 'L20':0.4}\n",
        "mejores_horarios = []\n",
        "result_partidos = []"
      ],
      "execution_count": null,
      "outputs": []
    },
    {
      "cell_type": "markdown",
      "metadata": {
        "id": "7Z9U2W7bi-XS"
      },
      "source": [
        "Según el modelo para el espacio de soluciones<br>\n",
        "(*)¿Cual es la función objetivo?\n",
        "\n",
        "La función objetivo es la que calcula la audiencia total de la jornada. En mi caso se llama \"calcula_total_audiencia\". Esta función recibe como argumento los partidos y los horarios de una jornada y en base a ellos devuelvo el total de la audiencia de esa jornada que viene a ser la suma de la audiencia de cada partido. Para elegir el mejor horario para un partido es necesario utilizar como función objetivo el total de audiencia de la jornada y lo el total de audiencia de ese partido, ya que la restricción de la simultaneidad no solo afecta a ese partido sino también al resto y aunque puede que la audiencia de ese partido mejorase con un horario puede que perjudicase que la audiencia total.\n",
        "\n",
        "(*)¿Es un problema de maximización o minimización?\n",
        "\n",
        "Es un problema de maximización ya que se debe obtener la mayor audiencia posible para la jornada."
      ]
    },
    {
      "cell_type": "markdown",
      "metadata": {
        "id": "hBalWLM7j1_d"
      },
      "source": [
        "Respuesta"
      ]
    },
    {
      "cell_type": "code",
      "metadata": {
        "id": "pDA-rg3Gj5Lz"
      },
      "source": [],
      "execution_count": null,
      "outputs": []
    },
    {
      "cell_type": "markdown",
      "metadata": {
        "id": "rlnTYgY1j6I2"
      },
      "source": [
        "Diseña un algoritmo para resolver el problema por fuerza bruta\n",
        "\n",
        "He diseñado un algoritmo recursivo que por fuerza bruta crea todas las combinaciones posibles dadas las restricciones de que tiene que haber un partido obligatoriamente en lunes y viernes. Para todas las combinaciones válidas, calcula su audiencia total y si se mejora la audiencia guarda la nueva audiencia y el nuevo mejor resultado. (Lo he ejecutado en mi ordenador y tardó como 6 horas por lo que no lo he ejecutado en el cuaderno)"
      ]
    },
    {
      "cell_type": "markdown",
      "metadata": {
        "id": "70rDgxYXkC8r"
      },
      "source": [
        "Respuesta"
      ]
    },
    {
      "cell_type": "code",
      "source": [
        "def calcula_horarios_fuerza_bruta(horarios, partidos, repetidos, audiencia, comb, count, resultado):\n",
        "  if len(comb) == 10:\n",
        "    if repetidos[0] >= 1 and repetidos[-1] >= 1:\n",
        "      audiencia_aux = calcula_total_audiencia(comb, partidos)\n",
        "      if audiencia_aux > audiencia[0]:\n",
        "        audiencia[0] = audiencia_aux\n",
        "        resultado = comb\n",
        "      count[0] += 1\n",
        "    return resultado\n",
        "\n",
        "  for i in range(len(horarios)):\n",
        "    comb.append(horarios[i])\n",
        "    repetidos[i] += 1\n",
        "    if repetidos[i] <= 9:\n",
        "      resultado = calcula_horarios_fuerza_bruta(horarios, partidos, repetidos, audiencia, comb, count, resultado)\n",
        "    repetidos[i] -= 1\n",
        "    comb.pop()\n",
        "  return resultado\n",
        "\n",
        "\n",
        "horarios = ['V20', 'S12', 'S16', 'S18', 'S20', 'D12', 'D16', 'D18', 'D20', 'L20']\n",
        "partidos = ['B-A', 'B-A', 'C-C', 'B-A', 'C-C', 'B-C', 'B-B', 'B-B', 'B-C', 'B-B']\n",
        "comb = []\n",
        "resultado = [\"\"] * len(horarios)\n",
        "repetidos = [0] * len(horarios)\n",
        "count = [0]\n",
        "audiencia = [0]\n",
        "resultado = calcula_horarios_fuerza_bruta(horarios, partidos, repetidos, audiencia, comb, count, resultado)\n",
        "print(\"Total de combinaciones:\", count[0])\n",
        "print(\"Mejores horarios:\",partidos, resultado)"
      ],
      "metadata": {
        "id": "W5p_WoLheS89"
      },
      "execution_count": null,
      "outputs": []
    },
    {
      "cell_type": "markdown",
      "metadata": {
        "id": "tgrnsC2nkFa8"
      },
      "source": [
        "Calcula la complejidad del algoritmo por fuerza bruta"
      ]
    },
    {
      "cell_type": "markdown",
      "metadata": {
        "id": "9eUd3xwckP68"
      },
      "source": [
        "Respuesta\n",
        "\n",
        "La complejidad de este algoritmo es del O(2<sup>n</sup>) ya que debe realizar operaciones del orden de O(k<sup>n</sup>) siendo n el número de partidos en una jornada y k el número de horarios disponibles. Por lo tanto pertenecería al orden exponencial."
      ]
    },
    {
      "cell_type": "markdown",
      "metadata": {
        "id": "txbrmLmskReM"
      },
      "source": [
        "(*)Diseña un algoritmo que mejore la complejidad del algortimo por fuerza bruta. Argumenta porque crees que mejora el algoritmo por fuerza bruta\n",
        "\n",
        "He diseñado un algoritmo voraz cuya función recibe el nombre de \"calcula_horarios\" de tal forma que en cada paso el algoritmo escoge la mejor opción y no tiene que calcular todas las posibles opciones. Se parte de la premisa de que si ordenamos los partidos de mayor a menor audiencia base y vamos asignando en orden decreciente de audiencia los mejores horarios, conseguiremos la mejor audiencia global posible ya que los partidos más penalizados serán los que menor audiencia base tienen y por lo tanto la penalización será menor que al aplicar ese mismo porcentaje a un partido de mayor audiencia.\n",
        "\n",
        "Por lo que en primer lugar calculamos las audiencias base y vamos cogiendo uno a uno los partidos y asignandoles el mejor horario posible. Los dos partidos con peor audiencia base son asignados obligarotiamente al lunes y viernes ya que son los peores horarios y así la penalización es menor."
      ]
    },
    {
      "cell_type": "markdown",
      "metadata": {
        "id": "hLrVwt5QkZPD"
      },
      "source": [
        "Respuesta"
      ]
    },
    {
      "cell_type": "code",
      "metadata": {
        "id": "m1eyM21Vkabg"
      },
      "source": [
        "import numpy as np\n",
        "\n",
        "def calcula_audiencia(enfrentamiento, horario_partido, simultaneo_partido):\n",
        "  simultaneos = {'0':0, '1':0.25, '2':0.45, '3':0.60, '4':0.70, '5':0.75, '6':0.78, '7':0.8, '8':0.8}\n",
        "  horarios = {'V20': 0.4, 'S12':0.55, 'S16':0.7, 'S18':0.8, 'S20':1, 'D12':0.45, 'D16':0.75, 'D18':0.85, 'D20':1, 'L20':0.4}\n",
        "\n",
        "  horario = horarios[horario_partido]\n",
        "  simultaneo = simultaneos[str(simultaneo_partido)]\n",
        "  return round((calcula_audiencia_base(enfrentamiento) * horario) * (1 - simultaneo), 2)\n",
        "\n",
        "def calcula_audiencia_base(enfrentamiento):\n",
        "  audiencias_map = {'A':0, 'B':1, 'C':2}\n",
        "  audiencias = [[2, 1.3, 1], [1.3, 0.9, 0.75], [1, 0.75, 0.47]]\n",
        "  audiencia = audiencias[audiencias_map[enfrentamiento[0]]][audiencias_map[enfrentamiento[2]]]\n",
        "  return audiencia\n",
        "\n",
        "def calcula_total_audiencia(horarios, partidos):\n",
        "  resultado = 0\n",
        "  for horario, partido in zip(horarios, partidos):\n",
        "    simultaneo = sum(1 for value in horarios if value == horario)\n",
        "    resultado += calcula_audiencia(partido, horario, simultaneo-1)\n",
        "\n",
        "  return resultado\n",
        "\n",
        "def calcula_horarios(partidos):\n",
        "  audiencia_base_partidos = []\n",
        "  horarios = ['V20', 'S12', 'S16', 'S18', 'S20', 'D12', 'D16', 'D18', 'D20', 'L20']\n",
        "  mejores_horarios = []\n",
        "  result_partidos = []\n",
        "  for partido in partidos:\n",
        "    audiencia_base_partidos.append(calcula_audiencia_base(partido))\n",
        "\n",
        "  audiencia_total = 0\n",
        "  for i in range(len(partidos) - 2):\n",
        "    # Buscamos el partido con mayor audiencia base\n",
        "    ind_max_audiencia = np.argmax(audiencia_base_partidos)\n",
        "    partido_max_audiencia = partidos[ind_max_audiencia]\n",
        "\n",
        "    # Borramos de la lista el partido elegido\n",
        "    audiencia_base_partidos.pop(ind_max_audiencia)\n",
        "    partidos.pop(ind_max_audiencia)\n",
        "\n",
        "    # Asignamos el mejor horario\n",
        "    result_partidos.append(partido_max_audiencia)  \n",
        "\n",
        "    for horario in horarios:\n",
        "      mejores_horarios.append(horario)\n",
        "      aux_audiencia = calcula_total_audiencia(mejores_horarios, result_partidos)\n",
        "      if audiencia_total < aux_audiencia:\n",
        "        mejor_horario = horario\n",
        "        audiencia_total = aux_audiencia \n",
        "      mejores_horarios.pop(-1)\n",
        "\n",
        "    mejores_horarios.append(mejor_horario)\n",
        "  \n",
        "  # Aisgnamos los partidos del lunes y viernes a los de menos audiencia base\n",
        "  # Partido del viernes\n",
        "  ind_max_audiencia = np.argmax(audiencia_base_partidos)\n",
        "  partido_max_audiencia = partidos[ind_max_audiencia]\n",
        "  mejores_horarios.append('V20')\n",
        "  result_partidos.append(partido_max_audiencia)\n",
        "  audiencia_base_partidos.pop(ind_max_audiencia)\n",
        "  partidos.pop(ind_max_audiencia)\n",
        "\n",
        "  # Partido del lunes\n",
        "  ind_max_audiencia = np.argmax(audiencia_base_partidos)\n",
        "  partido_max_audiencia = partidos[ind_max_audiencia]\n",
        "  mejores_horarios.append('L20')\n",
        "  result_partidos.append(partido_max_audiencia)\n",
        "\n",
        "  return mejores_horarios, result_partidos"
      ],
      "execution_count": 35,
      "outputs": []
    },
    {
      "cell_type": "markdown",
      "metadata": {
        "id": "eGDB4K6uk1iN"
      },
      "source": [
        "(*)Calcula la complejidad del algoritmo "
      ]
    },
    {
      "cell_type": "markdown",
      "metadata": {
        "id": "NhpTh_BPk1ms"
      },
      "source": [
        "Respuesta\n",
        "\n",
        "La complejidad viene a ser del O(n+n*n) lo que viene a ser O(n<sup>2</sup>). De tal forma que el algoritmo voraz tiene complejidad cuadrática. Muchisimo mejor que la complejidad exponencial del algoritmo por fuerza bruta."
      ]
    },
    {
      "cell_type": "code",
      "metadata": {
        "id": "nREzhkStlCq8"
      },
      "source": [],
      "execution_count": 21,
      "outputs": []
    },
    {
      "cell_type": "markdown",
      "metadata": {
        "id": "3M6QjTsSkmYe"
      },
      "source": [
        "Según el problema (y tenga sentido), diseña un juego de datos de entrada aleatorios\n",
        "\n",
        "A continuación se muestran los resultados para dos entradas distintas al problema. La primera se corresponde con el ejemplo de datos que viene en las diapositivas optimizado y la segunda es una aleatoria."
      ]
    },
    {
      "cell_type": "markdown",
      "metadata": {
        "id": "Jc3_OlyNkvjZ"
      },
      "source": [
        "Respuesta"
      ]
    },
    {
      "cell_type": "code",
      "source": [
        "jornada_aleatoria_1 = ['B-A', 'B-A', 'C-C', 'B-A', 'C-C', 'B-C', 'B-B', 'B-B', 'B-C', 'B-B']\n",
        "jornada_aleatoria_2 = ['A-A', 'C-A', 'C-B', 'C-B', 'C-C', 'B-C', 'B-B', 'B-B', 'B-B', 'B-B']"
      ],
      "metadata": {
        "id": "mUWcrEM2kGnm"
      },
      "execution_count": 37,
      "outputs": []
    },
    {
      "cell_type": "markdown",
      "metadata": {
        "id": "zy5ZROmjlGo1"
      },
      "source": [
        "Aplica el algoritmo al juego de datos generado"
      ]
    },
    {
      "cell_type": "markdown",
      "metadata": {
        "id": "_Cmj-PVylMsa"
      },
      "source": [
        "Respuesta"
      ]
    },
    {
      "cell_type": "code",
      "metadata": {
        "id": "Jkx8GeiYlUz1",
        "colab": {
          "base_uri": "https://localhost:8080/",
          "height": 0
        },
        "outputId": "55025391-cee6-485a-e826-8cff9f54bf85"
      },
      "source": [
        "mejores_horarios, result_partidos = calcula_horarios(jornada_aleatoria_1)\n",
        "total_audiencia = calcula_total_audiencia(mejores_horarios, result_partidos)\n",
        "aux = f\"Los mejores horarios para la jornada con una audiencia total de {total_audiencia} Millones de espectadores han sido: \\n\"\n",
        "aux += \"PARTIDOS --- HORARIOS\\n\"\n",
        "for horario, partido in zip(mejores_horarios, result_partidos):\n",
        "  aux += f\"   {partido}   ---    {horario}  \\n\"\n",
        "print(aux) "
      ],
      "execution_count": 38,
      "outputs": [
        {
          "output_type": "stream",
          "name": "stdout",
          "text": [
            "Los mejores horarios para la jornada con una audiencia total de 6.86 Millones de espectadores han sido: \n",
            "PARTIDOS --- HORARIOS\n",
            "   B-A   ---    S20  \n",
            "   B-A   ---    D20  \n",
            "   B-A   ---    D18  \n",
            "   B-B   ---    S18  \n",
            "   B-B   ---    D16  \n",
            "   B-B   ---    S16  \n",
            "   B-C   ---    S12  \n",
            "   B-C   ---    D12  \n",
            "   C-C   ---    V20  \n",
            "   C-C   ---    L20  \n",
            "\n"
          ]
        }
      ]
    },
    {
      "cell_type": "code",
      "source": [
        "mejores_horarios, result_partidos = calcula_horarios(jornada_aleatoria_2)\n",
        "total_audiencia = calcula_total_audiencia(mejores_horarios, result_partidos)\n",
        "aux = f\"Los mejores horarios para la jornada con una audiencia total de {total_audiencia} Millones de espectadores han sido: \\n\"\n",
        "aux += \"PARTIDOS --- HORARIOS\\n\"\n",
        "for horario, partido in zip(mejores_horarios, result_partidos):\n",
        "  aux += f\"   {partido}   ---    {horario}  \\n\"\n",
        "print(aux) "
      ],
      "metadata": {
        "colab": {
          "base_uri": "https://localhost:8080/",
          "height": 0
        },
        "id": "FPrghMoRkTA1",
        "outputId": "a8012dfa-a3d7-4e79-b64a-016aea4abf78"
      },
      "execution_count": 39,
      "outputs": [
        {
          "output_type": "stream",
          "name": "stdout",
          "text": [
            "Los mejores horarios para la jornada con una audiencia total de 7.04 Millones de espectadores han sido: \n",
            "PARTIDOS --- HORARIOS\n",
            "   A-A   ---    S20  \n",
            "   C-A   ---    D20  \n",
            "   B-B   ---    D18  \n",
            "   B-B   ---    S18  \n",
            "   B-B   ---    D16  \n",
            "   B-B   ---    S16  \n",
            "   C-B   ---    S12  \n",
            "   C-B   ---    D12  \n",
            "   B-C   ---    V20  \n",
            "   C-C   ---    L20  \n",
            "\n"
          ]
        }
      ]
    },
    {
      "cell_type": "markdown",
      "metadata": {
        "id": "eTFWUJQrtGcv"
      },
      "source": [
        "Enumera las referencias que has utilizado(si ha sido necesario) para llevar a cabo el trabajo"
      ]
    },
    {
      "cell_type": "markdown",
      "metadata": {
        "id": "YKQ_mRBttWsP"
      },
      "source": [
        "Respuesta"
      ]
    },
    {
      "cell_type": "markdown",
      "metadata": {
        "id": "kAkDPUyRtYyH"
      },
      "source": [
        "Describe brevemente las lineas de como crees que es posible avanzar en el estudio del problema. Ten en cuenta incluso posibles variaciones del problema y/o variaciones al alza del tamaño"
      ]
    },
    {
      "cell_type": "markdown",
      "metadata": {
        "id": "IE0uZmo-tZu-"
      },
      "source": [
        "Respuesta\n",
        "\n",
        "Para continuar avanzando en el problema podría continuar aumentandose las condiones del problema para ofrecer unos horarios más realistas teniendo en cuenta otras restricciones que se tienen en cuanta en la vida real a la hora de poner los horarios como incompatibilidades en los horarios de los equipos debido a otros torneos. Tambíen se podría aumentar el número de horarios disponibles con más datos para que el algoritmo pueda ofrecer una mejor planificación."
      ]
    },
    {
      "cell_type": "code",
      "source": [],
      "metadata": {
        "id": "G4CCTxwjlIOl"
      },
      "execution_count": null,
      "outputs": []
    }
  ]
}